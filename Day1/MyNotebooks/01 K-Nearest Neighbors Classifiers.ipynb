{
 "cells": [
  {
   "cell_type": "code",
   "execution_count": 54,
   "id": "b31ed25f-adb3-42dc-ad8e-e9d4362adcfc",
   "metadata": {},
   "outputs": [
    {
     "name": "stdout",
     "output_type": "stream",
     "text": [
      "X = [[ 0.    1.  ]\n",
      " [ 1.1   0.1 ]\n",
      " [ 1.    0.  ]\n",
      " [ 1.1   0.05]\n",
      " [-0.1   0.5 ]]\n",
      "y = [0 1 1 1 0]\n"
     ]
    }
   ],
   "source": [
    "import numpy as np\n",
    "from sklearn.neighbors import KNeighborsClassifier\n",
    "\n",
    "X = np.array([[0,1],[1.1,0.1],[1,0],[1.1,0.05],[-0.1,0.5]])\n",
    "y = np.array([0,1,1,1,0]) \n",
    "print(\"X =\",X)\n",
    "print(\"y =\",y)\n",
    "\n",
    "knn = KNeighborsClassifier(n_neighbors=2)\n",
    "knn.fit(X, y)\n",
    "knn.predict([[1.2,0.3]])"
   ]
  },
  {
   "cell_type": "code",
   "execution_count": 46,
   "id": "b83bf63a-a21c-4ce3-b488-7021f004a9f9",
   "metadata": {},
   "outputs": [
    {
     "data": {
      "text/plain": [
       "array([0])"
      ]
     },
     "execution_count": 46,
     "metadata": {},
     "output_type": "execute_result"
    }
   ],
   "source": [
    "knn.predict_proba([[0.7,0.8]])\n",
    "knn.predict([[0.7,0.8]])"
   ]
  },
  {
   "cell_type": "code",
   "execution_count": 49,
   "id": "a31c1a80-7093-4db5-a650-ccca418c86e0",
   "metadata": {},
   "outputs": [
    {
     "data": {
      "text/plain": [
       "[0.7071067811865476,\n",
       " 0.7211102550927979,\n",
       " 0.7071067811865476,\n",
       " 0.7500000000000001,\n",
       " 0.6]"
      ]
     },
     "execution_count": 49,
     "metadata": {},
     "output_type": "execute_result"
    }
   ],
   "source": [
    "[np.sqrt(np.sum((X[i]-[0.5,0.5])**2)) for i in range(5)]"
   ]
  }
 ],
 "metadata": {
  "kernelspec": {
   "display_name": "Python 3 (ipykernel)",
   "language": "python",
   "name": "python3"
  },
  "language_info": {
   "codemirror_mode": {
    "name": "ipython",
    "version": 3
   },
   "file_extension": ".py",
   "mimetype": "text/x-python",
   "name": "python",
   "nbconvert_exporter": "python",
   "pygments_lexer": "ipython3",
   "version": "3.10.12"
  }
 },
 "nbformat": 4,
 "nbformat_minor": 5
}
